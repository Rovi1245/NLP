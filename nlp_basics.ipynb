{
  "nbformat": 4,
  "nbformat_minor": 0,
  "metadata": {
    "colab": {
      "provenance": []
    },
    "kernelspec": {
      "name": "python3",
      "display_name": "Python 3"
    },
    "language_info": {
      "name": "python"
    }
  },
  "cells": [
    {
      "cell_type": "code",
      "execution_count": 6,
      "metadata": {
        "colab": {
          "base_uri": "https://localhost:8080/"
        },
        "id": "pXJEZTtdbKvP",
        "outputId": "d5292715-8130-4c02-c39e-640f1d9f1b14"
      },
      "outputs": [
        {
          "output_type": "stream",
          "name": "stdout",
          "text": [
            "   color_blue  color_green  color_red\n",
            "0       False        False       True\n",
            "1       False         True      False\n",
            "2        True        False      False\n",
            "3       False         True      False\n",
            "4       False        False       True\n"
          ]
        }
      ],
      "source": [
        "#One hot encoder implementation which is useful when the algos cant take categorical inputs but only they can process the binary numeric values\n",
        "import pandas as pd\n",
        "colors = {\n",
        "    \"color\": [\"red\", \"green\", \"blue\", \"green\", \"red\"]\n",
        "}\n",
        "df = pd.DataFrame(colors)\n",
        "one_hot = pd.get_dummies(df,columns=[\"color\"])\n",
        "print(one_hot)"
      ]
    },
    {
      "cell_type": "code",
      "source": [
        "#cosine similarity measures the similarity between the document which will be helpful in recommendation system\n",
        "import numpy as np\n",
        "\n",
        "\n",
        "A = np.array([1, 1, 1, 0])\n",
        "B = np.array([1, 1, 0, 1])\n",
        "\n",
        "\n",
        "dot_product = np.dot(A, B)\n",
        "\n",
        "\n",
        "magnitude_A = np.linalg.norm(A)\n",
        "magnitude_B = np.linalg.norm(B)\n",
        "\n",
        "cosine_similarity = dot_product / (magnitude_A * magnitude_B)\n",
        "\n",
        "print(f\"Cosine Similarity: {cosine_similarity:.3f}\")\n"
      ],
      "metadata": {
        "colab": {
          "base_uri": "https://localhost:8080/"
        },
        "id": "bhSMXU3J31SE",
        "outputId": "60f3e712-f3a1-473e-ec69-a225d2b47c3e"
      },
      "execution_count": 10,
      "outputs": [
        {
          "output_type": "stream",
          "name": "stdout",
          "text": [
            "Cosine Similarity: 0.667\n"
          ]
        }
      ]
    },
    {
      "cell_type": "code",
      "source": [
        "text = \"Rohit Gurunath Sharma is an Indian international cricketer who currently plays for and captains the India national cricket team in Test and One Day International matches.\"\n",
        "print(text)\n"
      ],
      "metadata": {
        "colab": {
          "base_uri": "https://localhost:8080/"
        },
        "id": "cfaTYMcK5RAx",
        "outputId": "94797a0b-23ad-4e23-f6b9-f9811cd7ebe6"
      },
      "execution_count": 14,
      "outputs": [
        {
          "output_type": "stream",
          "name": "stdout",
          "text": [
            "Rohit Gurunath Sharma is an Indian international cricketer who currently plays for and captains the India national cricket team in Test and One Day International matches.\n"
          ]
        }
      ]
    },
    {
      "cell_type": "code",
      "source": [
        "from nltk.stem import PorterStemmer\n",
        "from nltk.corpus import stopwords\n",
        "\n",
        "\n"
      ],
      "metadata": {
        "id": "mDM1AfCK5exz"
      },
      "execution_count": 17,
      "outputs": []
    },
    {
      "cell_type": "code",
      "source": [
        "#tokenization converts corpus -> documents -> words\n",
        "import nltk\n",
        "nltk.download('punkt')\n",
        "nltk.sent_tokenize(text)"
      ],
      "metadata": {
        "colab": {
          "base_uri": "https://localhost:8080/"
        },
        "id": "roca49LO7dit",
        "outputId": "01927151-e394-49cf-e4df-f7f5363c6c20"
      },
      "execution_count": 19,
      "outputs": [
        {
          "output_type": "stream",
          "name": "stderr",
          "text": [
            "[nltk_data] Downloading package punkt to /root/nltk_data...\n",
            "[nltk_data]   Unzipping tokenizers/punkt.zip.\n"
          ]
        },
        {
          "output_type": "execute_result",
          "data": {
            "text/plain": [
              "['Rohit Gurunath Sharma is an Indian international cricketer who currently plays for and captains the India national cricket team in Test and One Day International matches.']"
            ]
          },
          "metadata": {},
          "execution_count": 19
        }
      ]
    },
    {
      "cell_type": "code",
      "source": [
        "stemmer = PorterStemmer()\n",
        "stemmer.stem(\"history\")"
      ],
      "metadata": {
        "colab": {
          "base_uri": "https://localhost:8080/",
          "height": 35
        },
        "id": "hiVHSnLP79oB",
        "outputId": "6c81eb7c-4b5e-481c-910f-40a86e5b4e39"
      },
      "execution_count": 24,
      "outputs": [
        {
          "output_type": "execute_result",
          "data": {
            "text/plain": [
              "'histori'"
            ],
            "application/vnd.google.colaboratory.intrinsic+json": {
              "type": "string"
            }
          },
          "metadata": {},
          "execution_count": 24
        }
      ]
    },
    {
      "cell_type": "code",
      "source": [
        "import nltk\n",
        "nltk.download(\"wordnet\")\n",
        "from nltk.stem import WordNetLemmatizer\n",
        "lemmatizer = WordNetLemmatizer()\n",
        "lemmatizer.lemmatize(\"goes\")\n"
      ],
      "metadata": {
        "colab": {
          "base_uri": "https://localhost:8080/",
          "height": 70
        },
        "id": "6Q5WnCpb8fvE",
        "outputId": "24569c5e-7006-4e47-8675-292a81de56e9"
      },
      "execution_count": 32,
      "outputs": [
        {
          "output_type": "stream",
          "name": "stderr",
          "text": [
            "[nltk_data] Downloading package wordnet to /root/nltk_data...\n",
            "[nltk_data]   Package wordnet is already up-to-date!\n"
          ]
        },
        {
          "output_type": "execute_result",
          "data": {
            "text/plain": [
              "'go'"
            ],
            "application/vnd.google.colaboratory.intrinsic+json": {
              "type": "string"
            }
          },
          "metadata": {},
          "execution_count": 32
        }
      ]
    },
    {
      "cell_type": "code",
      "source": [
        "ans = []\n",
        "for word in text.split():\n",
        "    stemmed_word = stemmer.stem(word)\n",
        "    ans.append(stemmed_word)\n",
        "\n",
        "for i in range(0, 10):\n",
        "    print(ans[i])"
      ],
      "metadata": {
        "colab": {
          "base_uri": "https://localhost:8080/"
        },
        "id": "ITBHgOER8y7l",
        "outputId": "187b98f3-80f4-4b36-d6d0-4b8688edf956"
      },
      "execution_count": 42,
      "outputs": [
        {
          "output_type": "stream",
          "name": "stdout",
          "text": [
            "rohit\n",
            "gurunath\n",
            "sharma\n",
            "is\n",
            "an\n",
            "indian\n",
            "intern\n",
            "cricket\n",
            "who\n",
            "current\n"
          ]
        }
      ]
    },
    {
      "cell_type": "code",
      "source": [
        "lemmatized_ans = []\n",
        "\n",
        "# Lemmatize each word in the text\n",
        "for word in text.split():\n",
        "    lemmatized_word = lemmatizer.lemmatize(word)\n",
        "    lemmatized_ans.append(lemmatized_word)\n",
        "\n",
        "# Print the first 10 lemmatized words in the lemmatized_ans list\n",
        "for i in range(min(len(lemmatized_ans), 10)):\n",
        "    print(lemmatized_ans[i])"
      ],
      "metadata": {
        "colab": {
          "base_uri": "https://localhost:8080/"
        },
        "id": "ZkvteAxu9vKZ",
        "outputId": "54fc9872-e7ed-4db9-9938-3ea345f1ba3a"
      },
      "execution_count": 44,
      "outputs": [
        {
          "output_type": "stream",
          "name": "stdout",
          "text": [
            "Rohit\n",
            "Gurunath\n",
            "Sharma\n",
            "is\n",
            "an\n",
            "Indian\n",
            "international\n",
            "cricketer\n",
            "who\n",
            "currently\n"
          ]
        }
      ]
    },
    {
      "cell_type": "code",
      "source": [
        "import nltk\n",
        "from nltk.corpus import stopwords\n",
        "nltk.download('stopwords')\n",
        "\n",
        "\n",
        "stop_words = set(stopwords.words('english'))\n",
        "\n",
        "\n",
        "text = \"This is a simple example to demonstrate extracting stop words from the text.\"\n",
        "\n",
        "\n",
        "words = text.split()\n",
        "\n",
        "\n",
        "stop_words_in_text = [word for word in words if word.lower() in stop_words]\n",
        "\n",
        "print(\"Stop Words in Text:\", stop_words_in_text)\n"
      ],
      "metadata": {
        "colab": {
          "base_uri": "https://localhost:8080/"
        },
        "id": "f0CCjP9kALSw",
        "outputId": "1fe5ff1a-3a34-4aee-925c-5744f4f65629"
      },
      "execution_count": 45,
      "outputs": [
        {
          "output_type": "stream",
          "name": "stdout",
          "text": [
            "Stop Words in Text: ['This', 'is', 'a', 'to', 'from', 'the']\n"
          ]
        },
        {
          "output_type": "stream",
          "name": "stderr",
          "text": [
            "[nltk_data] Downloading package stopwords to /root/nltk_data...\n",
            "[nltk_data]   Unzipping corpora/stopwords.zip.\n"
          ]
        }
      ]
    },
    {
      "cell_type": "code",
      "source": [
        "from nltk.util import bigrams, trigrams\n",
        "from nltk.tokenize import word_tokenize\n",
        "\n",
        "\n",
        "text = \"I love coding\"\n",
        "\n",
        "\n",
        "tokens = word_tokenize(text)\n",
        "\n",
        "\n",
        "bigram_list = list(bigrams(tokens))\n",
        "trigram_list = list(trigrams(tokens))\n",
        "\n",
        "\n",
        "print(\"Bigrams:\", bigram_list)\n",
        "print(\"Total Bigrams:\", len(bigram_list))\n",
        "\n",
        "print(\"Trigrams:\", trigram_list)\n",
        "print(\"Total Trigrams:\", len(trigram_list))\n"
      ],
      "metadata": {
        "colab": {
          "base_uri": "https://localhost:8080/"
        },
        "id": "-PwEUTfmByFZ",
        "outputId": "b54f0e94-8c07-4810-d0e8-26f59d6b50c6"
      },
      "execution_count": 46,
      "outputs": [
        {
          "output_type": "stream",
          "name": "stdout",
          "text": [
            "Bigrams: [('I', 'love'), ('love', 'coding')]\n",
            "Total Bigrams: 2\n",
            "Trigrams: [('I', 'love', 'coding')]\n",
            "Total Trigrams: 1\n"
          ]
        }
      ]
    }
  ]
}